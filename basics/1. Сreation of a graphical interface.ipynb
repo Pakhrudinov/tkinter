{
 "cells": [
  {
   "cell_type": "markdown",
   "metadata": {},
   "source": [
    "# 1. Creation of a graphical interface"
   ]
  },
  {
   "cell_type": "markdown",
   "metadata": {},
   "source": [
    "### tk(tkinter)  tk.Tk()"
   ]
  },
  {
   "cell_type": "code",
   "execution_count": 1,
   "metadata": {},
   "outputs": [],
   "source": [
    "import tkinter as tk\n",
    "window = tk.Tk()\n",
    "window.mainloop()      #создания пустого окна"
   ]
  },
  {
   "cell_type": "markdown",
   "metadata": {},
   "source": [
    "## widgets"
   ]
  },
  {
   "cell_type": "markdown",
   "metadata": {},
   "source": [
    "### tk.label()"
   ]
  },
  {
   "cell_type": "code",
   "execution_count": null,
   "metadata": {},
   "outputs": [],
   "source": [
    "'''\n",
    "Используется для отображения текста или \n",
    "вставки изображения на окне приложения. \n",
    "            tk.label\n",
    "'''\n",
    "label = tk.Label(\n",
    "    text='Привет', \n",
    "    foreground='white', \n",
    "    background='black',        \n",
    "    width=20,\n",
    "    height=20\n",
    "    )\n",
    "label.pack()"
   ]
  },
  {
   "cell_type": "markdown",
   "metadata": {},
   "source": [
    "### tk.Button()"
   ]
  },
  {
   "cell_type": "code",
   "execution_count": null,
   "metadata": {},
   "outputs": [],
   "source": [
    "'''\n",
    "\tКнопка, на которой может быть текст, совершает \n",
    "    определенные действия при нажатии на нее.\n",
    "                tk.Button\n",
    "\n",
    "'''\n",
    "button = tk.Button(\n",
    "    text='inter me',\n",
    "    foreground='red',\n",
    "    background='blue',\n",
    "    width=25,\n",
    "    height=5\n",
    "    )\n",
    "button.pack()"
   ]
  },
  {
   "cell_type": "markdown",
   "metadata": {},
   "source": [
    "### tk.Entry()"
   ]
  },
  {
   "cell_type": "code",
   "execution_count": null,
   "metadata": {},
   "outputs": [],
   "source": [
    "'''\n",
    "Виджет для ввода одной строчки текст.\n",
    "        tk.Entry\n",
    "'''\n",
    "entry = tk.Entry(\n",
    "    fg='yellow',\n",
    "    bg='blue',\n",
    "    width=50  \n",
    "    )\n",
    "entry.pack()"
   ]
  }
 ],
 "metadata": {
  "kernelspec": {
   "display_name": "Python 3.8.5 64-bit",
   "language": "python",
   "name": "python38564bitaf0bb5075d664e98af35ce1e7d7bf570"
  },
  "language_info": {
   "codemirror_mode": {
    "name": "ipython",
    "version": 3
   },
   "file_extension": ".py",
   "mimetype": "text/x-python",
   "name": "python",
   "nbconvert_exporter": "python",
   "pygments_lexer": "ipython3",
   "version": "3.8.5"
  }
 },
 "nbformat": 4,
 "nbformat_minor": 4
}
