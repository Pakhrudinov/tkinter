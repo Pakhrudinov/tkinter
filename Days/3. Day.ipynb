{
 "cells": [
  {
   "cell_type": "markdown",
   "metadata": {},
   "source": [
    "# 3. Day"
   ]
  },
  {
   "cell_type": "markdown",
   "metadata": {},
   "source": [
    "## Обработчика событий в Tkinter"
   ]
  },
  {
   "cell_type": "markdown",
   "metadata": {},
   "source": [
    "При создании приложения в Tkinter, для старта цикла событий требуется вызвать метод window.mainloop(). Во время цикла событий приложение проверяет, произошло ли какое либо событие. Если это так, то в ответ может быть выполнен какой-то метод или функция.\n",
    "\n",
    "Цикл обработки событий предоставляется в Tkinter, поэтому не нужно писать дополнительный код для проверки наличия выполнения данных событий. Однако вам все же нужно написать код, который будет выполняться в ответ на событие. В Tkinter создаются функции, называемые обработчиками событий, для событий, которые используются в приложении."
   ]
  },
  {
   "cell_type": "markdown",
   "metadata": {},
   "source": [
    "## Метод .bind() для виджетов в Tkinter"
   ]
  },
  {
   "cell_type": "markdown",
   "metadata": {},
   "source": [
    "Для вызова обработчика событий во время возникновения события, связанного с виджетом, используется метод .bind(). Обработчик событий напрямую связан с событием. Продолжим использовать предыдущий пример с нажатием клавиши и задействуем метод .bind(), чтобы связать handle_keypress() с событием нажатия клавиши"
   ]
  },
  {
   "cell_type": "code",
   "execution_count": 2,
   "metadata": {},
   "outputs": [],
   "source": [
    "import tkinter as tk\n",
    " \n",
    "window = tk.Tk()\n",
    " \n",
    "def handle_keypress(event):\n",
    "    \"\"\"Выводит символ, связанный с нажатой клавишей\"\"\"\n",
    "    print(event.char)\n",
    " \n",
    "# Связывает событие нажатия клавиши с handle_keypress()\n",
    "window.bind(\"<Key>\", handle_keypress)\n",
    " \n",
    "window.mainloop()"
   ]
  },
  {
   "cell_type": "markdown",
   "metadata": {},
   "source": [
    "Здесь обработчик событий handle_keypress() связывается с событием \"<Key>\", используя window.bind(). Если во время работы приложения нажата определенная клавиша, тогда программа выведет символ этой нажатой клавиши"
   ]
  },
  {
   "cell_type": "markdown",
   "metadata": {},
   "source": [
    "### Метод .bind() всегда принимает по крайней мере два аргумента:"
   ]
  },
  {
   "cell_type": "markdown",
   "metadata": {},
   "source": [
    "1 Событие, представленное строкой в форме \"<event_name>\", где event_name может быть любым событием"
   ]
  },
  {
   "cell_type": "markdown",
   "metadata": {},
   "source": [
    "2 Обработчик событий, что является названием функции, вызываемой во время срабатывания события."
   ]
  },
  {
   "cell_type": "markdown",
   "metadata": {},
   "source": [
    "Обработчик события связан с виджетом, для которого вызывается метод  .bind(). Когда вызывается обработчик события, объект события передается в функцию обработчика события.\n",
    "\n",
    "В приведенном выше примере обработчик событий привязан к самому окну, но вы можете привязать обработчик событий к любому виджету в приложении. Например, вы можете привязать обработчик событий к виджету кнопки Button, который будет выполнять некоторые действия при каждом нажатии на данную кнопку"
   ]
  },
  {
   "cell_type": "code",
   "execution_count": 9,
   "metadata": {},
   "outputs": [],
   "source": [
    "import tkinter as tk\n",
    "window = tk.Tk()\n",
    "def handle_click(event):\n",
    "    print(\"Нажата кнопка!\")\n",
    " \n",
    "button = tk.Button(text=\"Кликни!\")\n",
    "button.pack()\n",
    " \n",
    "button.bind(\"<Button-1>\", handle_click)\n",
    "\n",
    "window.mainloop()"
   ]
  },
  {
   "cell_type": "markdown",
   "metadata": {},
   "source": [
    "В данном примере событие \"<Button-1>\" над виджетом кнопки связано с обработчиком handle_click. Событие  \"<Button-1>\", происходит когда при направлении курсора на виджет нажимается левая кнопка мыши.\n",
    "\n",
    "Есть и другие события для кнопок мыши, включая \"<Button-2>\" для средней кнопки мыши (в современных мышках это нажатая колесо для скролла) и \"<Button-3>\" и правой кнопки мыши.\n",
    "\n",
    "При помощи метода .bind() с виджетом можно связать любой обработчик событий. Однако есть более простой способ связать обработчики событий с нажатием кнопки при помощи использования атрибута command от виджета кнопки."
   ]
  },
  {
   "cell_type": "markdown",
   "metadata": {},
   "source": [
    "## Атрибут command для виджета кнопки в Tkinter"
   ]
  },
  {
   "cell_type": "markdown",
   "metadata": {},
   "source": [
    "У каждого виджета кнопки есть атрибут command, который привязывает какую либо функцию к данной кнопки. Во время нажатия кнопки функция выполняется."
   ]
  },
  {
   "cell_type": "code",
   "execution_count": 21,
   "metadata": {},
   "outputs": [
    {
     "name": "stdout",
     "output_type": "stream",
     "text": [
      "{'activebackground': 'SystemButtonFace', 'activeforeground': 'SystemButtonText', 'anchor': 'center', 'background': 'SystemButtonFace', 'bd': <string object: '2'>, 'bg': 'SystemButtonFace', 'bitmap': '', 'borderwidth': <string object: '2'>, 'compound': 'none', 'cursor': '', 'disabledforeground': 'SystemDisabledText', 'fg': 'SystemButtonText', 'font': 'TkDefaultFont', 'foreground': 'SystemButtonText', 'height': 0, 'highlightbackground': 'SystemButtonFace', 'highlightcolor': 'SystemWindowFrame', 'highlightthickness': <string object: '0'>, 'image': '', 'justify': 'center', 'padx': <string object: '1'>, 'pady': <string object: '1'>, 'relief': 'flat', 'state': 'normal', 'takefocus': '0', 'text': '0', 'textvariable': '', 'underline': -1, 'width': 0, 'wraplength': <string object: '0'>}\n"
     ]
    }
   ],
   "source": [
    "import tkinter as tk\n",
    "\n",
    "window = tk.Tk()\n",
    "window.rowconfigure(0, minsize=50, weight=1)\n",
    "window.columnconfigure(list(range(3)), minsize=50, weight=1)\n",
    "\n",
    "minus = tk.Button(text='-')\n",
    "plus = tk.Button(text='+')\n",
    "counter = tk.Label(text='0')\n",
    "\n",
    "print(dict(counter))\n",
    "\n",
    "minus.grid(row='0', column='0', sticky='nswe')\n",
    "plus.grid(row='0', column='2', sticky='nswe')\n",
    "counter.grid(row='0', column='1')\n",
    "\n",
    "window.mainloop()"
   ]
  },
  {
   "cell_type": "code",
   "execution_count": null,
   "metadata": {},
   "outputs": [],
   "source": []
  }
 ],
 "metadata": {
  "kernelspec": {
   "display_name": "Python 3",
   "language": "python",
   "name": "python3"
  },
  "language_info": {
   "codemirror_mode": {
    "name": "ipython",
    "version": 3
   },
   "file_extension": ".py",
   "mimetype": "text/x-python",
   "name": "python",
   "nbconvert_exporter": "python",
   "pygments_lexer": "ipython3",
   "version": "3.8.5"
  }
 },
 "nbformat": 4,
 "nbformat_minor": 4
}
