{
 "cells": [
  {
   "cell_type": "markdown",
   "metadata": {},
   "source": [
    "# 10. Day"
   ]
  },
  {
   "cell_type": "markdown",
   "metadata": {},
   "source": [
    "https://younglinux.info/tkinter/widget2.php"
   ]
  },
  {
   "cell_type": "markdown",
   "metadata": {},
   "source": [
    "### Виджет Listbox"
   ]
  },
  {
   "cell_type": "code",
   "execution_count": 7,
   "metadata": {},
   "outputs": [],
   "source": [
    "from tkinter import *\n",
    "\n",
    "root = Tk()\n",
    "\n",
    "lbox = Listbox(width=15, height=8, selectmode=EXTENDED)\n",
    "lbox.pack()\n",
    "\n",
    "for i in ('one', 'two', 'tree', 'four', 'five', 'six', 'seven'):\n",
    "    lbox.insert(END, i)\n",
    "\n",
    "root.mainloop()"
   ]
  },
  {
   "cell_type": "code",
   "execution_count": 12,
   "metadata": {},
   "outputs": [],
   "source": [
    "from tkinter import *\n",
    " \n",
    " \n",
    "def add_item():\n",
    "    box.insert(END, entry.get())\n",
    "    entry.delete(0, END)\n",
    " \n",
    " \n",
    "def del_list():\n",
    "    select = list(box.curselection())\n",
    "    select.reverse()\n",
    "    for i in select:\n",
    "        box.delete(i)\n",
    " \n",
    " \n",
    "def save_list():\n",
    "    f = open('list000.txt', 'w')\n",
    "    f.writelines(\"\\n\".join(box.get(0, END)))\n",
    "    f.close()\n",
    " \n",
    " \n",
    "root = Tk()\n",
    " \n",
    "box = Listbox(selectmode=EXTENDED)\n",
    "box.pack(side=LEFT)\n",
    "scroll = Scrollbar(command=box.yview)\n",
    "scroll.pack(side=LEFT, fill=Y)\n",
    "box.config(yscrollcommand=scroll.set)\n",
    " \n",
    "f = Frame()\n",
    "f.pack(side=LEFT, padx=10)\n",
    "entry = Entry(f)\n",
    "entry.pack(anchor=N)\n",
    "Button(f, text=\"Add\", command=add_item)\\\n",
    "    .pack(fill=X)\n",
    "Button(f, text=\"Delete\", command=del_list)\\\n",
    "    .pack(fill=X)\n",
    "Button(f, text=\"Save\", command=save_list)\\\n",
    "    .pack(fill=X)\n",
    " \n",
    "root.mainloop()"
   ]
  },
  {
   "cell_type": "markdown",
   "metadata": {},
   "source": [
    "### Practical work"
   ]
  },
  {
   "cell_type": "code",
   "execution_count": 19,
   "metadata": {},
   "outputs": [],
   "source": [
    "# my work\n",
    "from tkinter import *\n",
    "\n",
    "def rigth():\n",
    "    select = list(box1.curselection())\n",
    "    select.reverse()\n",
    "    for i in select:\n",
    "        box2.insert(0, box1.get(i))\n",
    "        box1.delete(i)\n",
    "\n",
    "def left():\n",
    "    select = list(box2.curselection())\n",
    "    select.reverse()\n",
    "    for i in select:\n",
    "        box1.insert(0, box2.get(i))\n",
    "        box2.delete(i)\n",
    "\n",
    "root = Tk()\n",
    "box1 = Listbox(selectmode=EXTENDED)\n",
    "box1.pack(side=LEFT, anchor=N)\n",
    "for i in ('apple', 'bananas', 'carrot', 'bread', 'butter', 'meat', 'potato', 'pineapple'):\n",
    "    box1.insert(END, i)\n",
    "\n",
    "btns_frame = Frame()\n",
    "btns_frame.pack(side=LEFT, ipadx=5)\n",
    "\n",
    "btn_right = Button(btns_frame, text='>>>', command=rigth)\n",
    "btn_right.pack()\n",
    "\n",
    "btn_left = Button(btns_frame, text='<<<', command=left)\n",
    "btn_left.pack()\n",
    "\n",
    "box2 = Listbox(selectmode=EXTENDED)\n",
    "box2.pack(side=LEFT, anchor=N)\n",
    "\n",
    "\n",
    "root.mainloop()"
   ]
  },
  {
   "cell_type": "code",
   "execution_count": 20,
   "metadata": {},
   "outputs": [],
   "source": [
    "# work\n",
    "from tkinter import *\n",
    "def buy(first, second):\n",
    "    select = first.curselection()\n",
    "    for i in select:\n",
    "        second.insert(END, first.get(i))\n",
    "    select = list(select)\n",
    "    select.reverse()\n",
    "    for i in select:\n",
    "        first.delete(i)\n",
    "root = Tk()\n",
    "\n",
    "food = ['apple', 'bananas', 'tomato', 'potato', 'carrot',\n",
    "        'pineapple', 'bread', 'butter', 'milk', 'meat']\n",
    "shop = Listbox(selectmode=EXTENDED)\n",
    "shop.pack(side=LEFT)\n",
    "for i in food:\n",
    "    shop.insert(END, i)\n",
    "goods = Listbox(selectmode=EXTENDED)\n",
    "goods.pack(side=RIGHT)\n",
    "f = Frame()\n",
    "f.pack(side=LEFT)\n",
    "Button(f, text=\">>>\", command=lambda\n",
    "    i=shop, j=goods: buy(i, j)).pack()\n",
    "Button(f, text=\"<<<\", command=lambda\n",
    "    i=goods, j=shop: buy(i, j)).pack()\n",
    "\n",
    "root.mainloop()"
   ]
  }
 ],
 "metadata": {
  "kernelspec": {
   "display_name": "Python 3",
   "language": "python",
   "name": "python3"
  },
  "language_info": {
   "codemirror_mode": {
    "name": "ipython",
    "version": 3
   },
   "file_extension": ".py",
   "mimetype": "text/x-python",
   "name": "python",
   "nbconvert_exporter": "python",
   "pygments_lexer": "ipython3",
   "version": "3.8.5"
  }
 },
 "nbformat": 4,
 "nbformat_minor": 4
}
