{
 "cells": [
  {
   "cell_type": "markdown",
   "metadata": {},
   "source": [
    "# https://younglinux.info/tkinter/tkinter.php"
   ]
  },
  {
   "cell_type": "code",
   "execution_count": 16,
   "metadata": {
    "scrolled": true
   },
   "outputs": [],
   "source": [
    "from tkinter import *\n",
    "\n",
    "def str_to_sort_list(event):\n",
    "    print(event.num)\n",
    "    s = ent.get().split()\n",
    "    s.sort()\n",
    "    lab['text'] = ' '.join(s)\n",
    "    \n",
    "root = Tk()\n",
    "\n",
    "ent = Entry(root, width=20)\n",
    "but = Button(root, text='Преобразовать')\n",
    "lab = Label(root,  width=20,\n",
    "            bg='black',\n",
    "            fg='white'\n",
    "           )\n",
    "\n",
    "but.bind('<Button-1>', str_to_sort_list)\n",
    "\n",
    "ent.pack()\n",
    "but.pack()\n",
    "lab.pack()\n",
    "\n",
    "root.mainloop()"
   ]
  },
  {
   "cell_type": "code",
   "execution_count": 32,
   "metadata": {
    "scrolled": true
   },
   "outputs": [],
   "source": [
    "from tkinter import *\n",
    "\n",
    "\n",
    "class Block():\n",
    "    def __init__(self, master, func):\n",
    "        self.ent = Entry(master, width=20)\n",
    "        self.but = Button(master, text='Преобразовать')\n",
    "        self.lab = Label(master, width=20,\n",
    "                        bg='black', fg='white')\n",
    "        self.but['command'] = eval('self.' + func)\n",
    "        self.ent.pack()\n",
    "        self.but.pack()\n",
    "        self.lab.pack()\n",
    "        \n",
    "    def str_to_sort(self):\n",
    "        s = self.ent.get().split()\n",
    "        s.sort()\n",
    "        self.lab['text'] = ' '.join(s)\n",
    "\n",
    "    def str_reverse(self):\n",
    "        s = self.ent.get().split()\n",
    "        s.reverse()\n",
    "        self.lab['text'] = ' '.join(s)\n",
    "            \n",
    "root = Tk()\n",
    "\n",
    "first_block = Block(root, 'str_to_sort')\n",
    "second_block = Block(root, 'str_reverse')\n",
    "\n",
    "root.mainloop()"
   ]
  },
  {
   "cell_type": "markdown",
   "metadata": {},
   "source": [
    "## Калькулятор"
   ]
  },
  {
   "cell_type": "code",
   "execution_count": 52,
   "metadata": {},
   "outputs": [
    {
     "name": "stdout",
     "output_type": "stream",
     "text": [
      "да это блять так работает\n"
     ]
    }
   ],
   "source": [
    "from tkinter import *\n",
    "\n",
    "\n",
    "root = Tk()\n",
    "\n",
    "def addition():\n",
    "    result['text'] = str(int(num_ent1.get()) + int(num_ent2.get()))\n",
    "    \n",
    "def difference():\n",
    "    result['text'] = str(int(num_ent1.get()) - int(num_ent2.get()))\n",
    "    \n",
    "def multiplication():\n",
    "    result['text'] = str(int(num_ent1.get()) * int(num_ent2.get()))\n",
    "    \n",
    "def division():\n",
    "    result['text'] = str(int(num_ent1.get()) / int(num_ent2.get()))\n",
    "\n",
    "\n",
    "num_ent1 = Entry(root, width=30)\n",
    "num_ent1.pack(fill=X)\n",
    "num_ent2 = Entry(root, width=30)\n",
    "num_ent2.pack(fill=X)\n",
    "\n",
    "\n",
    "\n",
    "    \n",
    "addition_btn = Button(text='+', command=addition)\n",
    "addition_btn.pack(fill=X)\n",
    "difference_btn = Button(text='-', command=difference)\n",
    "difference_btn.pack(fill=X)\n",
    "multiplication_btn = Button(text='*', command=multiplication)\n",
    "multiplication_btn.pack(fill=X)\n",
    "division_btn = Button(text='/', command=division)\n",
    "division_btn.pack(fill=X)\n",
    "\n",
    "result = Label()\n",
    "result.pack()\n",
    "\n",
    "root.mainloop()\n",
    "\n"
   ]
  },
  {
   "cell_type": "code",
   "execution_count": 58,
   "metadata": {},
   "outputs": [],
   "source": [
    "from tkinter import *\n",
    "class MathButton:\n",
    "    def __init__(self, action):\n",
    "        self.but = Button(text=action, width=10, command=self.math)\n",
    "        self.operator = action\n",
    "        self.but.pack()\n",
    "    def math(self):\n",
    "        try:\n",
    "            n1 = float(ent_n1.get())\n",
    "            n2 = float(ent_n2.get())\n",
    "        except ValueError:\n",
    "            lab_result['text'] = 'Error'\n",
    "        else:\n",
    "            if self.operator == '+':\n",
    "                    lab_result['text'] = n1 + n2\n",
    "            elif self.operator == '-':\n",
    "                lab_result['text'] = round(n1 - n2, 2)\n",
    "            elif self.operator == '*':\n",
    "                lab_result['text'] = round(n1 * n2, 2)\n",
    "            elif self.operator == '/':\n",
    "                if n2 != 0:\n",
    "                    lab_result['text'] = round(n1 / n2, 2)\n",
    "                else:\n",
    "                    lab_result['text'] = 'ZeroDivisionError'\n",
    "root = Tk()\n",
    "ent_n1 = Entry(width=10)\n",
    "ent_n1.pack()\n",
    "ent_n2 = Entry(width=10)\n",
    "ent_n2.pack()\n",
    "\n",
    "but_summa = MathButton('+')\n",
    "but_diff = MathButton('-')\n",
    "but_prod = MathButton('*')\n",
    "but_div = MathButton('/')\n",
    "lab_result = Label(width=15)\n",
    "lab_result.pack()\n",
    "root.mainloop()"
   ]
  }
 ],
 "metadata": {
  "kernelspec": {
   "display_name": "Python 3",
   "language": "python",
   "name": "python3"
  },
  "language_info": {
   "codemirror_mode": {
    "name": "ipython",
    "version": 3
   },
   "file_extension": ".py",
   "mimetype": "text/x-python",
   "name": "python",
   "nbconvert_exporter": "python",
   "pygments_lexer": "ipython3",
   "version": "3.8.5"
  }
 },
 "nbformat": 4,
 "nbformat_minor": 4
}
