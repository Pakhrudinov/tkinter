{
 "cells": [
  {
   "cell_type": "markdown",
   "metadata": {},
   "source": [
    "# 19.Day"
   ]
  },
  {
   "cell_type": "code",
   "execution_count": 3,
   "metadata": {},
   "outputs": [],
   "source": [
    "from tkinter import *\n",
    " \n",
    "root = Tk()\n",
    "root.geometry('150x150')\n",
    " \n",
    "Button(bg='red').place(x=75, y=20)\n",
    "Button(bg='green').place(relx=0.3, rely=0.5)\n",
    "Button(bg='blue').place(relwidth=0.4, relheight=0.6)\n",
    " \n",
    "root.mainloop()"
   ]
  },
  {
   "cell_type": "markdown",
   "metadata": {},
   "source": [
    "# Practical work"
   ]
  },
  {
   "cell_type": "code",
   "execution_count": 46,
   "metadata": {},
   "outputs": [],
   "source": [
    "import tkinter as tk\n",
    "from PIL import ImageTk\n",
    "from random import randint\n",
    "import re\n",
    "\n",
    "def def_smile():\n",
    "    position = re.split(r'\\D', root.geometry())\n",
    "    btn_smile.place(x=randint(40,int(position[0]))-40, y=randint(40,int(position[0])-40))\n",
    "\n",
    "root = tk.Tk()\n",
    "root.title('Smile')\n",
    "root.geometry('300x300')\n",
    "\n",
    "img = Image.open('200.gif')\n",
    "img.thumbnail((30, 50))\n",
    "img = ImageTk.PhotoImage(img)\n",
    "\n",
    "btn_smile = tk.Button(image=img, command=def_smile)\n",
    "\n",
    "btn_smile.place(x=randint(30,300-30), y=randint(30, 300-30))\n",
    "\n",
    "\n",
    "\n",
    "root.mainloop()"
   ]
  }
 ],
 "metadata": {
  "kernelspec": {
   "display_name": "Python 3",
   "language": "python",
   "name": "python3"
  },
  "language_info": {
   "codemirror_mode": {
    "name": "ipython",
    "version": 3
   },
   "file_extension": ".py",
   "mimetype": "text/x-python",
   "name": "python",
   "nbconvert_exporter": "python",
   "pygments_lexer": "ipython3",
   "version": "3.8.5"
  }
 },
 "nbformat": 4,
 "nbformat_minor": 4
}
