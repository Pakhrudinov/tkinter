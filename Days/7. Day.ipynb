{
 "cells": [
  {
   "cell_type": "markdown",
   "metadata": {},
   "source": [
    "# 7. Day"
   ]
  },
  {
   "cell_type": "code",
   "execution_count": null,
   "metadata": {},
   "outputs": [],
   "source": [
    "from tkinter import *\n",
    "\n",
    "root = Tk()\n",
    "l1 = Label(f_top, width=7, height=4, \n",
    "           bg='yellow', text=\"1\")\n",
    "l2 = Label(f_top, width=7, height=4, \n",
    "           bg='orange', text=\"2\")\n",
    "l3 = Label(f_bot, width=7, height=4, \n",
    "           bg='lightgreen', text=\"3\")\n",
    "l4 = Label(f_bot, width=7, height=4, \n",
    "           bg='lightblue', text=\"4\")\n",
    "\n",
    "root.mainloop()"
   ]
  },
  {
   "cell_type": "markdown",
   "metadata": {},
   "source": [
    "#### side"
   ]
  },
  {
   "cell_type": "code",
   "execution_count": 7,
   "metadata": {},
   "outputs": [],
   "source": [
    "from tkinter import *\n",
    "root = Tk()\n",
    "f_top = LabelFrame(root, text='TOP')\n",
    "f_bot = LabelFrame(root, text='BOT')\n",
    "l1 = Label(f_top, width=7, height=4,\n",
    "           bg='yellow', text=\"1\")\n",
    "l2 = Label(f_top, width=7, height=4,\n",
    "           bg='orange', text=\"2\")\n",
    "l3 = Label(f_bot, width=7, height=4,\n",
    "           bg='lightgreen', text=\"3\")\n",
    "l4 = Label(f_bot, width=7, height=4,\n",
    "           bg='lightblue', text=\"4\")\n",
    " \n",
    "f_top.pack()\n",
    "f_bot.pack()\n",
    "l1.pack(side=LEFT)\n",
    "l2.pack(side=LEFT)\n",
    "l3.pack(side=LEFT)\n",
    "l4.pack(side=LEFT)\n",
    " \n",
    "root.mainloop()"
   ]
  },
  {
   "cell_type": "markdown",
   "metadata": {},
   "source": [
    "#### padx pady ipadx ipady"
   ]
  },
  {
   "cell_type": "markdown",
   "metadata": {},
   "source": [
    "Кроме side у pack есть другие параметры-свойства. Можно задавать внутренние (ipadx и ipady) и внешние (padx и pady) отступы:"
   ]
  },
  {
   "cell_type": "markdown",
   "metadata": {},
   "source": [
    "#### fill(заполнение) expend(расширение)  anchor(якорь)"
   ]
  },
  {
   "cell_type": "code",
   "execution_count": 9,
   "metadata": {},
   "outputs": [],
   "source": [
    "from tkinter import *\n",
    "root = Tk()\n",
    "l1 = Label(text=\"This is a label\",\n",
    "           width=30, height=10, \n",
    "           bg=\"lightgreen\")\n",
    "l1.pack(expand=1)\n",
    "root.mainloop()"
   ]
  },
  {
   "cell_type": "code",
   "execution_count": 15,
   "metadata": {},
   "outputs": [],
   "source": [
    "from tkinter import *\n",
    "root = Tk()\n",
    "l1 = Label(text=\"This is a label\",\n",
    "           width=30, height=10, \n",
    "           bg=\"lightgreen\")\n",
    "l1.pack(fill=Y, side=LEFT)\n",
    "root.mainloop()"
   ]
  },
  {
   "cell_type": "code",
   "execution_count": 16,
   "metadata": {},
   "outputs": [],
   "source": [
    "from tkinter import *\n",
    "root = Tk()\n",
    "l1 = Label(text=\"This is a label\",\n",
    "           width=30, height=10, \n",
    "           bg=\"lightgreen\")\n",
    "l1.pack(anchor=SE)\n",
    "root.mainloop()"
   ]
  },
  {
   "cell_type": "markdown",
   "metadata": {},
   "source": [
    "# task"
   ]
  },
  {
   "cell_type": "code",
   "execution_count": 45,
   "metadata": {},
   "outputs": [],
   "source": [
    "# мое решение\n",
    "from tkinter import *\n",
    "\n",
    "class color_cube():\n",
    "    def __init__(self, color):\n",
    "        self.color = color\n",
    "        self.btn = Button(master=cube_frame)\n",
    "        self.btn.config(height=1, width=2, bg=color, command=self.who_color)\n",
    "        self.btn.pack(side=LEFT, padx=1, pady=1)\n",
    "        \n",
    "    def who_color(self):\n",
    "        lbl_color['text'] = btnlst[self.color]\n",
    "        ent_color.delete(0, END)\n",
    "        ent_color.insert(END, self.color)\n",
    "\n",
    "\n",
    "root = Tk()\n",
    "\n",
    "lbl_color = Label()\n",
    "lbl_color.pack()\n",
    "\n",
    "ent_color = Entry(width=30, justify=CENTER)\n",
    "ent_color.pack()\n",
    "\n",
    "cube_frame = Frame()\n",
    "cube_frame.pack()\n",
    "\n",
    "btnlst = {'#ff0000': 'красный', '#ff7d00': 'оранжевый', '#ffff00': 'желтый', '#00ff00': 'зеленый',\n",
    "          '#007dff': 'голубой', '#0000ff': 'синий', '#7d00ff': 'фиолетовый'\n",
    "         }\n",
    "\n",
    "for i in btnlst:\n",
    "    color_cube(i)\n",
    "\n",
    "root.mainloop()"
   ]
  },
  {
   "cell_type": "code",
   "execution_count": 46,
   "metadata": {},
   "outputs": [],
   "source": [
    "# решение автора\n",
    "from tkinter import *\n",
    "root = Tk()\n",
    "rainbow = (('#ff0000', 'красный'), ('#ff7d00', 'оранжевый'),\n",
    "           ('#ffff00', 'желтый'), ('#00ff00', 'зеленый'),\n",
    "           ('#007dff', 'голубой'), ('#0000ff', 'синий'),\n",
    "           ('#7d00ff', 'фиолетовый'))\n",
    "class ColorButton:\n",
    "    def __init__(self, master, i):\n",
    "        self.i = i\n",
    "        self.button = Button(master, bg=rainbow[i][0],\n",
    "                             command=self.insert_color)\n",
    "        self.button.pack(side=LEFT)\n",
    "    def insert_color(self):\n",
    "        label['text'] = rainbow[self.i][1]\n",
    "        entry.delete(0, END)\n",
    "        entry.insert(0, rainbow[self.i][0])\n",
    "label = Label(width=10)\n",
    "label.pack(pady=5)\n",
    "entry = Entry(width=15, justify=CENTER)\n",
    "entry.pack(pady=5)\n",
    "frame = Frame()\n",
    "frame.pack()\n",
    "for i in range(len(rainbow)):\n",
    "    ColorButton(frame, i)\n",
    "root.mainloop()"
   ]
  }
 ],
 "metadata": {
  "kernelspec": {
   "display_name": "Python 3",
   "language": "python",
   "name": "python3"
  },
  "language_info": {
   "codemirror_mode": {
    "name": "ipython",
    "version": 3
   },
   "file_extension": ".py",
   "mimetype": "text/x-python",
   "name": "python",
   "nbconvert_exporter": "python",
   "pygments_lexer": "ipython3",
   "version": "3.8.5"
  }
 },
 "nbformat": 4,
 "nbformat_minor": 4
}
