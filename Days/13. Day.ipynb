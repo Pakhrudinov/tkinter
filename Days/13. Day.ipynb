{
 "cells": [
  {
   "cell_type": "markdown",
   "metadata": {},
   "source": [
    "# 13. Day"
   ]
  },
  {
   "cell_type": "markdown",
   "metadata": {},
   "source": [
    "https://younglinux.info/tkinter/canvas.php"
   ]
  },
  {
   "cell_type": "code",
   "execution_count": 9,
   "metadata": {},
   "outputs": [],
   "source": [
    "from tkinter import *\n",
    "root = Tk()\n",
    " \n",
    "c = Canvas(root, width=200, height=200, bg='white')\n",
    "c.pack()\n",
    " \n",
    "c.create_line(10, 10, 190, 50)\n",
    " \n",
    "c.create_line(100, 180, 100, 60, fill='green',\n",
    "                width=5, arrow=LAST, dash=(10, 2),\n",
    "                activefill='lightgreen',\n",
    "                arrowshape=\"10 20 10\")\n",
    " \n",
    "root.mainloop()"
   ]
  },
  {
   "cell_type": "code",
   "execution_count": 53,
   "metadata": {},
   "outputs": [],
   "source": [
    "from tkinter import *\n",
    "\n",
    "root = Tk()\n",
    "\n",
    "c = Canvas(width=200, height=200)\n",
    "c.pack()\n",
    "\n",
    "c.create_rectangle(10, 10, 190, 60)\n",
    " \n",
    "c.create_rectangle(60, 80, 140, 190,\n",
    "                   fill='yellow',\n",
    "                   outline='green',\n",
    "                   width=3,\n",
    "                   activedash=(5, 4)\n",
    "                  )\n",
    "\n",
    "\n",
    "root.mainloop()"
   ]
  },
  {
   "cell_type": "code",
   "execution_count": 15,
   "metadata": {},
   "outputs": [],
   "source": [
    "import tkinter as tk\n",
    "\n",
    "root = tk.Tk()\n",
    "\n",
    "c = tk.Canvas(width=200, height=200)\n",
    "c.pack()\n",
    "\n",
    "c.create_polygon(100, 10, 20, 90, 180, 90)\n",
    "\n",
    "\n",
    "c.create_polygon(40, 110, 160, 110,\n",
    "                 190, 180, 10, 180,\n",
    "                 fill='orange', outline='black')\n",
    "\n",
    "\n",
    "root.mainloop()"
   ]
  },
  {
   "cell_type": "code",
   "execution_count": 20,
   "metadata": {},
   "outputs": [],
   "source": [
    "import tkinter as tk\n",
    "\n",
    "root = tk.Tk()\n",
    "\n",
    "c = tk.Canvas(width=200, height=200)\n",
    "c.pack()\n",
    "\n",
    "c.create_oval((50, 10), (150, 110), width=2)\n",
    "\n",
    "c.create_oval(10, 120, 190, 190, \n",
    "              fill='grey70',outline='white')\n",
    "\n",
    "\n",
    "root.mainloop()"
   ]
  },
  {
   "cell_type": "code",
   "execution_count": 21,
   "metadata": {},
   "outputs": [],
   "source": [
    "import tkinter as tk\n",
    "\n",
    "root = tk.Tk()\n",
    "\n",
    "c = tk.Canvas(width=200, height=200)\n",
    "c.pack()\n",
    "\n",
    "c.create_oval(10, 10, 190, 190,\n",
    "              fill='lightgrey',\n",
    "              outline='white')\n",
    "\n",
    "c.create_arc(10, 10, 190, 190, \n",
    "             start=0, extent=45, \n",
    "             fill='red')\n",
    "\n",
    "c.create_arc(10, 10, 190, 190, \n",
    "             start=180, extent=25, \n",
    "             fill='orange')\n",
    "\n",
    "c.create_arc(10, 10, 190, 190, \n",
    "             start=240, extent=100, \n",
    "             style=CHORD, fill='green')  # сегмент\n",
    "\n",
    "c.create_arc(10, 10, 190, 190, \n",
    "             start=160, extent=-70, \n",
    "             style=ARC, outline='darkblue',     #дуга\n",
    "             width=5)\n",
    "\n",
    "root.mainloop()"
   ]
  },
  {
   "cell_type": "code",
   "execution_count": 26,
   "metadata": {},
   "outputs": [],
   "source": [
    "import tkinter as tk\n",
    "\n",
    "root = tk.Tk()\n",
    "\n",
    "c = tk.Canvas(width=200, height=200)\n",
    "c.pack()\n",
    "\n",
    "c.create_text(100, 100,\n",
    "              text=\"Hello World,\\nPython\\nand Tk\",\n",
    "              justify=CENTER, font='Verdana 20'\n",
    "             )\n",
    "\n",
    "root.mainloop()"
   ]
  },
  {
   "cell_type": "markdown",
   "metadata": {},
   "source": [
    "## Practical"
   ]
  },
  {
   "cell_type": "code",
   "execution_count": 101,
   "metadata": {},
   "outputs": [],
   "source": [
    "# my work\n",
    "\n",
    "import tkinter as tk\n",
    "\n",
    "class house:\n",
    "    def __init__(self, master, w, d):\n",
    "        self.master = master\n",
    "        self.w = w\n",
    "        self.d = d\n",
    "        self.roof()\n",
    "        self.carcass()\n",
    "    \n",
    "    def roof(self):\n",
    "        w = self.w\n",
    "        d = self.d\n",
    "        self.master.create_polygon((w, d), (w+70, d+50), (w-70, d+50), fill='lightblue')\n",
    "        \n",
    "    def carcass(self):\n",
    "        w = self.w\n",
    "        d = self.d\n",
    "        self.master.create_rectangle((w-45, d+50), (w+45, d+140), fill='lightblue', outline='lightblue')\n",
    "        \n",
    "def grass(master, x):\n",
    "    y = 170\n",
    "    master.create_arc((x, y), (x+20, y+100), start=180, extent=-100, style=ARC, outline='green', width=2)\n",
    "\n",
    "root = tk.Tk()\n",
    "\n",
    "c = tk.Canvas(width=200, height=200)\n",
    "c.pack()\n",
    "\n",
    "c.create_oval((150, 10), (190, 50), outline='yellow', fill='orange')\n",
    "\n",
    "\n",
    "h1 = house(c, 100, 50)\n",
    "\n",
    "\n",
    "for i in range(2, 200, 10):\n",
    "        grass(c, i)\n",
    "\n",
    "\n",
    "root.mainloop()"
   ]
  },
  {
   "cell_type": "code",
   "execution_count": 104,
   "metadata": {},
   "outputs": [],
   "source": [
    "from tkinter import *\n",
    "root = Tk()\n",
    "c = Canvas(root, width=200, height=200, bg='white')\n",
    "c.pack()\n",
    "c.create_rectangle(50, 90, 140, 175, \n",
    "            fill='lightblue', outline='lightblue')\n",
    "c.create_polygon(30, 90, 160, 90, 95, 40, \n",
    "            fill='lightblue', outline='lightblue')\n",
    "c.create_oval(150, 10, 190, 50, \n",
    "            fill='orange', outline='yellow')\n",
    "x = -20\n",
    "while x < 200:\n",
    "    c.create_arc(x, 170, x+40, 250, outline='green',\n",
    "            style=ARC, start=180, extent=-80,\n",
    "            width=2)\n",
    "    x += 10        \n",
    "root.mainloop()"
   ]
  }
 ],
 "metadata": {
  "kernelspec": {
   "display_name": "Python 3",
   "language": "python",
   "name": "python3"
  },
  "language_info": {
   "codemirror_mode": {
    "name": "ipython",
    "version": 3
   },
   "file_extension": ".py",
   "mimetype": "text/x-python",
   "name": "python",
   "nbconvert_exporter": "python",
   "pygments_lexer": "ipython3",
   "version": "3.8.5"
  }
 },
 "nbformat": 4,
 "nbformat_minor": 4
}
