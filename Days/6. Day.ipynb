{
 "cells": [
  {
   "cell_type": "markdown",
   "metadata": {},
   "source": [
    "# 6. Day"
   ]
  },
  {
   "cell_type": "markdown",
   "metadata": {},
   "source": [
    "### Button"
   ]
  },
  {
   "cell_type": "code",
   "execution_count": 3,
   "metadata": {},
   "outputs": [],
   "source": [
    "from tkinter import *\n",
    " \n",
    " \n",
    "def change():\n",
    "    b1['text'] = \"Изменено\"\n",
    "    b1['bg'] = '#000000'\n",
    "    b1['activebackground'] = '#555555'\n",
    "    b1['fg'] = '#ffffff'\n",
    "    b1['activeforeground'] = '#ffffff'\n",
    " \n",
    " \n",
    "root = Tk()\n",
    "b1 = Button(text=\"Изменить\", \n",
    "            width=15, height=3)\n",
    "b1.config(command=change)\n",
    "b1.pack()\n",
    "root.mainloop()"
   ]
  },
  {
   "cell_type": "markdown",
   "metadata": {},
   "source": [
    "### Label"
   ]
  },
  {
   "cell_type": "code",
   "execution_count": 10,
   "metadata": {},
   "outputs": [],
   "source": [
    "from tkinter import *\n",
    "root = Tk()\n",
    "l1 = Label(text=\"Машинное обучение\",\n",
    "           font=\"Arial 32\")\n",
    "l2 = Label(text=\"Распознавание образов\",\n",
    "           font=(\"Comic Sans MS\",\n",
    "                 24, \"bold\"))\n",
    "l1.config(bd=20, bg='#ffaaaa')\n",
    "l2.config(bd=20, bg='#aaffff')\n",
    "l1.pack()\n",
    "l2.pack()\n",
    "root.mainloop()"
   ]
  },
  {
   "cell_type": "code",
   "execution_count": 11,
   "metadata": {},
   "outputs": [],
   "source": [
    "from tkinter import *\n",
    " \n",
    " \n",
    "def take():\n",
    "    lab['text'] = \"Выдано\"\n",
    " \n",
    " \n",
    "root = Tk()\n",
    "Label(text=\"Пункт выдачи\").pack()\n",
    "Button(text=\"Взять\", command=take).pack()\n",
    "lab = Label(width=10, height=1)\n",
    "lab.pack()\n",
    "root.mainloop()"
   ]
  },
  {
   "cell_type": "markdown",
   "metadata": {},
   "source": [
    "### Entry"
   ]
  },
  {
   "cell_type": "code",
   "execution_count": null,
   "metadata": {},
   "outputs": [],
   "source": [
    "from tkinter import *\n",
    " \n",
    "root = Tk()\n",
    "e1 = Entry(width=50)\n",
    " \n",
    " \n",
    "def insert():\n",
    "    e1.insert(0, \"Tkinter - GUI \")\n",
    " \n",
    " \n",
    "but = Button(text=\"Вставить\", command=insert)\n",
    "e1.pack()\n",
    "but.pack()\n",
    "root.mainloop()"
   ]
  },
  {
   "cell_type": "markdown",
   "metadata": {},
   "source": [
    "### task"
   ]
  },
  {
   "cell_type": "code",
   "execution_count": 6,
   "metadata": {},
   "outputs": [],
   "source": [
    "#мое решение\n",
    "from tkinter import *\n",
    "\n",
    "def red():\n",
    "    lbl_color['text'] = 'красный'\n",
    "    ent_color.delete(0, END)\n",
    "    ent_color.insert(END, '#ff0000')\n",
    "\n",
    "def ore():\n",
    "    lbl_color['text'] = 'оранжевый'\n",
    "    ent_color.delete(0, END)\n",
    "    ent_color.insert(END, ' #ff7d00')\n",
    "\n",
    "def yel():\n",
    "    lbl_color['text'] = 'желтый'\n",
    "    ent_color.delete(0, END)\n",
    "    ent_color.insert(END, '#ffff00')\n",
    "\n",
    "def green():\n",
    "    lbl_color['text'] = 'зеленый'\n",
    "    ent_color.delete(0, END)\n",
    "    ent_color.insert(END, '#00ff00')\n",
    "    \n",
    "def lite_blue():\n",
    "    lbl_color['text'] = 'голубой'\n",
    "    ent_color.delete(0, END)\n",
    "    ent_color.insert(END, '#007dff ')\n",
    "    \n",
    "def blue():\n",
    "    lbl_color['text'] = 'синий'\n",
    "    ent_color.delete(0, END)\n",
    "    ent_color.insert(END, ' #0000ff')\n",
    "    \n",
    "def purpur():\n",
    "    lbl_color['text'] = 'фиолетовый'\n",
    "    ent_color.delete(0, END)\n",
    "    ent_color.insert(END, '#7d00ff')\n",
    "\n",
    "root = Tk()\n",
    "lbl_color = Label(justify=CENTER)\n",
    "lbl_color.pack()\n",
    "\n",
    "ent_color = Entry(justify=CENTER)\n",
    "ent_color.pack()\n",
    "\n",
    "btnlst = {'#ff0000': 'красный', '#ff7d00': 'оранжевый', '#ffff00': 'желтый', '#00ff00': 'зеленый', '#007dff': 'голубой', '#0000ff': 'синий', '#7d00ff': 'фиолетовый'}\n",
    "\n",
    "\n",
    "Button(bg='#ff0000', command=red).pack(fill=X)\n",
    "Button(bg='#ff7d00', command=ore).pack(fill=X)\n",
    "Button(bg='#ffff00', command=yel).pack(fill=X)\n",
    "Button(bg='#00ff00', command=green).pack(fill=X)\n",
    "Button(bg='#007dff', command=lite_blue).pack(fill=X)\n",
    "Button(bg='#0000ff', command=blue).pack(fill=X)\n",
    "Button(bg='#7d00ff', command=purpur).pack(fill=X)\n",
    "\n",
    "\n",
    "root.mainloop()"
   ]
  },
  {
   "cell_type": "code",
   "execution_count": 7,
   "metadata": {},
   "outputs": [],
   "source": [
    "# решение автора\n",
    "from tkinter import *\n",
    "root = Tk()\n",
    "rainbow = (('#ff0000', 'красный'), ('#ff7d00', 'оранжевый'),\n",
    "           ('#ffff00', 'желтый'), ('#00ff00', 'зеленый'),\n",
    "           ('#007dff', 'голубой'), ('#0000ff', 'синий'),\n",
    "           ('#7d00ff', 'фиолетовый'))\n",
    "class ColorButton:\n",
    "    def __init__(self, i):\n",
    "        self.i = i\n",
    "        self.button = Button(width=12, bg=rainbow[i][0],\n",
    "                             command=self.insert_color)\n",
    "        self.button.pack()\n",
    "    def insert_color(self):\n",
    "        label['text'] = rainbow[self.i][1]\n",
    "        entry.delete(0, END)\n",
    "        entry.insert(0, rainbow[self.i][0])\n",
    "label = Label(width=10)\n",
    "label.pack()\n",
    "entry = Entry(width=15, justify=CENTER)\n",
    "entry.pack()\n",
    "for i in range(len(rainbow)):\n",
    "    ColorButton(i)\n",
    "root.mainloop()"
   ]
  }
 ],
 "metadata": {
  "kernelspec": {
   "display_name": "Python 3",
   "language": "python",
   "name": "python3"
  },
  "language_info": {
   "codemirror_mode": {
    "name": "ipython",
    "version": 3
   },
   "file_extension": ".py",
   "mimetype": "text/x-python",
   "name": "python",
   "nbconvert_exporter": "python",
   "pygments_lexer": "ipython3",
   "version": "3.8.5"
  }
 },
 "nbformat": 4,
 "nbformat_minor": 4
}
