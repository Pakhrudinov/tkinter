{
 "cells": [
  {
   "cell_type": "markdown",
   "metadata": {},
   "source": [
    "# 8. Day"
   ]
  },
  {
   "cell_type": "code",
   "execution_count": 2,
   "metadata": {
    "scrolled": true
   },
   "outputs": [
    {
     "name": "stdout",
     "output_type": "stream",
     "text": [
      "80 24\n"
     ]
    }
   ],
   "source": [
    "from tkinter import *\n",
    "root = Tk()\n",
    "text = Text()\n",
    "print(text['width'], text['height'])\n",
    "root.mainloop()"
   ]
  },
  {
   "cell_type": "code",
   "execution_count": 5,
   "metadata": {},
   "outputs": [
    {
     "name": "stdout",
     "output_type": "stream",
     "text": [
      "25 5\n"
     ]
    }
   ],
   "source": [
    "from tkinter import *\n",
    "root = Tk()\n",
    "text = Text(width=25, height=5, bg='darkgreen',\n",
    "            fg='white', wrap=WORD)   # перенос слова целиком а не по буквам\n",
    "text.pack()\n",
    "print(text['width'], text['height'])\n",
    "root.mainloop()"
   ]
  },
  {
   "cell_type": "markdown",
   "metadata": {},
   "source": [
    "#### text и scrollbar"
   ]
  },
  {
   "cell_type": "code",
   "execution_count": 6,
   "metadata": {},
   "outputs": [],
   "source": [
    "from tkinter import *\n",
    "root = Tk()\n",
    " \n",
    "text = Text(width=20, height=7)\n",
    "text.pack(side=LEFT)\n",
    " \n",
    "scroll = Scrollbar(command=text.yview)\n",
    "scroll.pack(side=LEFT, fill=Y)\n",
    " \n",
    "text.config(yscrollcommand=scroll.set)\n",
    " \n",
    "root.mainloop()"
   ]
  },
  {
   "cell_type": "markdown",
   "metadata": {},
   "source": [
    "#### методы text"
   ]
  },
  {
   "cell_type": "code",
   "execution_count": 10,
   "metadata": {},
   "outputs": [],
   "source": [
    "from tkinter import *\n",
    " \n",
    " \n",
    "def insert_text():\n",
    "    s = \"Hello World\"\n",
    "    text.insert(1.0, s)\n",
    " \n",
    " \n",
    "def get_text():\n",
    "    s = text.get(1.0, END)\n",
    "    label['text'] = s\n",
    " \n",
    " \n",
    "def delete_text():\n",
    "    text.delete(1.0, END)\n",
    " \n",
    " \n",
    "root = Tk()\n",
    " \n",
    "text = Text(width=25, height=5)\n",
    "text.pack()\n",
    " \n",
    "frame = Frame()\n",
    "frame.pack()\n",
    "Button(frame, text=\"Вставить\",\n",
    "       command=insert_text).pack(side=LEFT)\n",
    "Button(frame, text=\"Взять\",\n",
    "       command=get_text).pack(side=LEFT)\n",
    "Button(frame, text=\"Удалить\",\n",
    "       command=delete_text).pack(side=LEFT)\n",
    " \n",
    "label = Label()\n",
    "label.pack()\n",
    " \n",
    "root.mainloop()"
   ]
  },
  {
   "cell_type": "markdown",
   "metadata": {},
   "source": [
    "#### теги"
   ]
  },
  {
   "cell_type": "code",
   "execution_count": 13,
   "metadata": {},
   "outputs": [],
   "source": [
    "from tkinter import *\n",
    "root = Tk()\n",
    " \n",
    "text = Text(width=50, height=10)\n",
    "text.pack()\n",
    "text.insert(1.0, \"Hello world!\\nline two\")\n",
    " \n",
    "text.tag_add('title', 1.0, '1.end')\n",
    "text.tag_config('title', justify=CENTER,\n",
    "                font=(\"Verdana\", 24, 'bold'))\n",
    " \n",
    "root.mainloop()"
   ]
  },
  {
   "cell_type": "markdown",
   "metadata": {},
   "source": [
    "#### Вставка виджетов в текстовое поле"
   ]
  },
  {
   "cell_type": "code",
   "execution_count": 16,
   "metadata": {},
   "outputs": [],
   "source": [
    "from tkinter import *\n",
    " \n",
    "def smile():\n",
    "    label = Label(text=\":)\", bg=\"yellow\")\n",
    "    text.window_create(INSERT, window=label)\n",
    " \n",
    "root = Tk()\n",
    " \n",
    "text = Text(width=50, height=10)\n",
    "text.pack()\n",
    " \n",
    "button = Button(text=\":)\", command=smile)\n",
    "button.pack()\n",
    " \n",
    "root.mainloop()"
   ]
  },
  {
   "cell_type": "markdown",
   "metadata": {},
   "source": [
    "## Practical work"
   ]
  },
  {
   "cell_type": "code",
   "execution_count": 74,
   "metadata": {},
   "outputs": [],
   "source": [
    "# my work\n",
    "from tkinter import *\n",
    "\n",
    "def btn_open():\n",
    "    try:\n",
    "        with open(ent_file.get(), 'r') as text:\n",
    "            text = text.read()\n",
    "        txt_file.delete(1.0, END)\n",
    "        txt_file.insert(1.0, text)\n",
    "        \n",
    "    except FileNotFoundError:\n",
    "        txt_file.delete(1.0, END)\n",
    "        txt_file.insert(1.0, 'Нет такого файла')\n",
    "\n",
    "def btn_save():\n",
    "    with open(ent_file.get(), 'w') as text:\n",
    "        text.write(txt_file.get(1.0, END))\n",
    "\n",
    "root = Tk()\n",
    "\n",
    "frm_top = Frame()\n",
    "frm_top.pack(padx=10, pady=5)\n",
    "\n",
    "ent_file = Entry(frm_top, width=30, borderwidth=2)\n",
    "ent_file.pack(side=LEFT)\n",
    "\n",
    "btn_open = Button(frm_top, text='Открыть', width=10, command=btn_open)\n",
    "btn_open.pack(side=LEFT)\n",
    "\n",
    "btn_save = Button(frm_top, text='Сохранить', width=10, command=btn_save)\n",
    "btn_save.pack(side=LEFT)\n",
    "\n",
    "\n",
    "frm_bot = Frame()\n",
    "frm_bot.pack()\n",
    "\n",
    "txt_file = Text(frm_bot, width=45, height=18)\n",
    "txt_file.pack(side=LEFT)\n",
    "\n",
    "scroll_y = Scrollbar(frm_bot, command=txt_file.yview)\n",
    "scroll_y.pack(side=LEFT, fill=Y)\n",
    "\n",
    "txt_file.config(yscrollcommand=scroll_y.set)\n",
    "\n",
    "scroll_x = Scrollbar(root, command=txt_file.xview, orient=HORIZONTAL)\n",
    "scroll_x.pack(fill=X)\n",
    "\n",
    "txt_file.config(xscrollcommand=scroll_y.set)\n",
    "\n",
    "\n",
    "\n",
    "root.mainloop()"
   ]
  }
 ],
 "metadata": {
  "kernelspec": {
   "display_name": "Python 3",
   "language": "python",
   "name": "python3"
  },
  "language_info": {
   "codemirror_mode": {
    "name": "ipython",
    "version": 3
   },
   "file_extension": ".py",
   "mimetype": "text/x-python",
   "name": "python",
   "nbconvert_exporter": "python",
   "pygments_lexer": "ipython3",
   "version": "3.8.5"
  }
 },
 "nbformat": 4,
 "nbformat_minor": 4
}
