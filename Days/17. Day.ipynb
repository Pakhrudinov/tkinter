{
 "cells": [
  {
   "cell_type": "markdown",
   "metadata": {},
   "source": [
    "# 17. Day"
   ]
  },
  {
   "cell_type": "markdown",
   "metadata": {},
   "source": [
    "https://younglinux.info/tkinter/dialogbox.php"
   ]
  },
  {
   "cell_type": "code",
   "execution_count": 3,
   "metadata": {},
   "outputs": [],
   "source": [
    "from tkinter import *\n",
    "from tkinter import messagebox as mb\n",
    " \n",
    "def check():\n",
    "    answer = mb.askyesno(\n",
    "        title=\"Вопрос\", \n",
    "        message=\"Перенести данные?\")\n",
    "    if answer:\n",
    "        s = entry.get()\n",
    "        entry.delete(0, END)\n",
    "        label['text'] = s\n",
    " \n",
    " \n",
    "root = Tk()\n",
    "entry = Entry()\n",
    "entry.pack(pady=10)\n",
    "Button(text='Передать', command=check).pack()\n",
    "label = Label(height=3)\n",
    "label.pack()\n",
    " \n",
    "root.mainloop()"
   ]
  },
  {
   "cell_type": "code",
   "execution_count": 5,
   "metadata": {},
   "outputs": [],
   "source": [
    "from tkinter import *\n",
    "from tkinter import messagebox as mb\n",
    " \n",
    "def check():\n",
    "    s = entry.get()\n",
    "    if not s.isdigit():\n",
    "        mb.showerror(\n",
    "            \"Ошибка\", \n",
    "            \"Должно быть введено число\")\n",
    "    else:\n",
    "        entry.delete(0, END)\n",
    "        label['text'] = s\n",
    " \n",
    " \n",
    "root = Tk()\n",
    "entry = Entry()\n",
    "entry.pack(pady=10)\n",
    "Button(text='Передать', command=check).pack()\n",
    "label = Label(height=3)\n",
    "label.pack()\n",
    " \n",
    "root.mainloop()"
   ]
  },
  {
   "cell_type": "code",
   "execution_count": 10,
   "metadata": {},
   "outputs": [],
   "source": [
    "from tkinter import *\n",
    "from tkinter import filedialog as fd\n",
    " \n",
    "def insert_text():\n",
    "    file_name = fd.askopenfilename()\n",
    "    f = open(file_name)\n",
    "    s = f.read()\n",
    "    text.insert(1.0, s)\n",
    "    f.close()\n",
    " \n",
    " \n",
    "def extract_text():\n",
    "    file_name = fd.asksaveasfilename(\n",
    "        filetypes=((\"TXT files\", \"*.txt\"),\n",
    "                   (\"HTML files\", \"*.html;*.htm\"),\n",
    "                   (\"All files\", \"*.*\")))\n",
    "    f = open(file_name, 'w')\n",
    "    s = text.get(1.0, END)\n",
    "    f.write(s)\n",
    "    f.close()\n",
    " \n",
    " \n",
    "root = Tk()\n",
    "text = Text(width=50, height=25)\n",
    "text.grid(columnspan=2)\n",
    "b1 = Button(text=\"Открыть\", command=insert_text)\n",
    "b1.grid(row=1, sticky=E)\n",
    "b2 = Button(text=\"Сохранить\", command=extract_text)\n",
    "b2.grid(row=1, column=1, sticky=W)\n",
    " \n",
    "root.mainloop()"
   ]
  },
  {
   "cell_type": "markdown",
   "metadata": {},
   "source": [
    "# practical work"
   ]
  },
  {
   "cell_type": "code",
   "execution_count": 21,
   "metadata": {},
   "outputs": [],
   "source": [
    "# my work\n",
    "\n",
    "import tkinter as tk\n",
    "from tkinter import filedialog, messagebox\n",
    "\n",
    "\n",
    "root = tk.Tk()\n",
    "root.title('Редактор')\n",
    "\n",
    "tools = tk.Frame()\n",
    "tools.grid(row=0, column=0)\n",
    "btn_open = tk.Button(tools, text='OPEN')\n",
    "btn_open.grid(row=0, column=0)\n",
    "btn_save = tk.Button(tools, text='SAVE')\n",
    "btn_save.grid(row=1, column=0, sticky=W+E)\n",
    "\n",
    "text = tk.Text(width=30, height=15)\n",
    "text.grid(row=0, column=1)\n",
    "\n",
    "\n",
    "root.mainloop()"
   ]
  }
 ],
 "metadata": {
  "kernelspec": {
   "display_name": "Python 3",
   "language": "python",
   "name": "python3"
  },
  "language_info": {
   "codemirror_mode": {
    "name": "ipython",
    "version": 3
   },
   "file_extension": ".py",
   "mimetype": "text/x-python",
   "name": "python",
   "nbconvert_exporter": "python",
   "pygments_lexer": "ipython3",
   "version": "3.8.5"
  }
 },
 "nbformat": 4,
 "nbformat_minor": 4
}
