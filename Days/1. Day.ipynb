{
 "cells": [
  {
   "cell_type": "markdown",
   "metadata": {},
   "source": [
    "# 1. Creation of a graphical interface"
   ]
  },
  {
   "cell_type": "markdown",
   "metadata": {},
   "source": [
    "### tk(tkinter)  tk.Tk()"
   ]
  },
  {
   "cell_type": "code",
   "execution_count": 1,
   "metadata": {},
   "outputs": [],
   "source": [
    "import tkinter as tk\n",
    "window = tk.Tk()\n",
    "window.mainloop()      #создания пустого окна"
   ]
  },
  {
   "cell_type": "markdown",
   "metadata": {},
   "source": [
    "## widgets"
   ]
  },
  {
   "cell_type": "markdown",
   "metadata": {},
   "source": [
    "### tk.label()"
   ]
  },
  {
   "cell_type": "code",
   "execution_count": null,
   "metadata": {},
   "outputs": [],
   "source": [
    "'''\n",
    "Используется для отображения текста или \n",
    "вставки изображения на окне приложения. \n",
    "            tk.label\n",
    "'''\n",
    "label = tk.Label(\n",
    "    text='Привет', \n",
    "    foreground='white', \n",
    "    background='black',        \n",
    "    width=20,\n",
    "    height=20\n",
    "    )\n",
    "label.pack()"
   ]
  },
  {
   "cell_type": "markdown",
   "metadata": {},
   "source": [
    "### tk.Button()"
   ]
  },
  {
   "cell_type": "code",
   "execution_count": null,
   "metadata": {},
   "outputs": [],
   "source": [
    "'''\n",
    "\tКнопка, на которой может быть текст, совершает \n",
    "    определенные действия при нажатии на нее.\n",
    "                tk.Button\n",
    "\n",
    "'''\n",
    "button = tk.Button(\n",
    "    text='inter me',\n",
    "    foreground='red',\n",
    "    background='blue',\n",
    "    width=25,\n",
    "    height=5\n",
    "    )\n",
    "button.pack()"
   ]
  },
  {
   "cell_type": "markdown",
   "metadata": {},
   "source": [
    "### tk.Entry()"
   ]
  },
  {
   "cell_type": "code",
   "execution_count": null,
   "metadata": {},
   "outputs": [],
   "source": [
    "'''\n",
    "Виджет для ввода одной строчки текст.\n",
    "        tk.Entry\n",
    "'''\n",
    "entry = tk.Entry(\n",
    "    fg='yellow',\n",
    "    bg='blue',\n",
    "    width=50  \n",
    "    )\n",
    "entry.pack()"
   ]
  },
  {
   "cell_type": "markdown",
   "metadata": {},
   "source": [
    "### tk.Text()"
   ]
  },
  {
   "cell_type": "code",
   "execution_count": null,
   "metadata": {},
   "outputs": [],
   "source": [
    "'''\n",
    "Виджет для ввода большого текста.\n",
    "'''\n",
    "import tkinter as tk\n",
    "window = tk.Tk()\n",
    "text_box = tk.Text()\n",
    "text_box.pack()"
   ]
  },
  {
   "cell_type": "markdown",
   "metadata": {},
   "source": [
    "### tk.Frame()"
   ]
  },
  {
   "cell_type": "markdown",
   "metadata": {},
   "source": [
    "создание в рамки"
   ]
  },
  {
   "cell_type": "code",
   "execution_count": 1,
   "metadata": {},
   "outputs": [],
   "source": [
    "import tkinter as tk\n",
    " \n",
    "window = tk.Tk()\n",
    " \n",
    "frame_a = tk.Frame()\n",
    "frame_b = tk.Frame()\n",
    " \n",
    "label_a = tk.Label(master=frame_a, text=\"I'm in Frame A\")\n",
    "label_a.pack()\n",
    " \n",
    "label_b = tk.Label(master=frame_b, text=\"I'm in Frame B\")\n",
    "label_b.pack()\n",
    " \n",
    "frame_a.pack()\n",
    "frame_b.pack()\n",
    " \n",
    "window.mainloop()"
   ]
  },
  {
   "cell_type": "markdown",
   "metadata": {},
   "source": [
    "## Атрибут relief в Tkinter — Меняем стиль рамки"
   ]
  },
  {
   "cell_type": "code",
   "execution_count": 19,
   "metadata": {},
   "outputs": [],
   "source": [
    "import tkinter as tk\n",
    " \n",
    "border_effects = {\n",
    "    \"flat\": tk.FLAT,\n",
    "    \"sunken\": tk.SUNKEN,\n",
    "    \"raised\": tk.RAISED,\n",
    "    \"groove\": tk.GROOVE,\n",
    "    \"ridge\": tk.RIDGE,\n",
    "}\n",
    " \n",
    "window = tk.Tk()\n",
    " \n",
    "for relief_name, relief in border_effects.items():\n",
    "    frame = tk.Frame(master=window, relief=relief, borderwidth=5)\n",
    "    frame.pack(side=tk.LEFT)\n",
    "    label = tk.Label(master=frame, text=relief_name)\n",
    "    label.pack()\n",
    " \n",
    "window.mainloop()"
   ]
  },
  {
   "cell_type": "markdown",
   "metadata": {},
   "source": [
    "## Хороший совет"
   ]
  },
  {
   "cell_type": "markdown",
   "metadata": {},
   "source": [
    "Класс виджета\tПрефикс названия переменной\tПример\n",
    "\n",
    "Label\tlbl\tlbl_name\n",
    "\n",
    "Button\tbtn\tbtn_submit\n",
    "\n",
    "Entry\tent\tent_age\n",
    "\n",
    "Text\ttxt\ttxt_notes\n",
    "\n",
    "Frame\tfrm\tfrm_address"
   ]
  },
  {
   "cell_type": "markdown",
   "metadata": {},
   "source": [
    "## Настройка макета приложения через менеджеры геометрии"
   ]
  },
  {
   "cell_type": "markdown",
   "metadata": {},
   "source": [
    "Расчет прямоугольной области, называемой участком. Размер области подходит для вмещения виджета, а оставшаяся ширина (или высота) окна заполняется пустым пространством;\n",
    "\n",
    "Центрирование виджета в участке, если не указано другое местоположение в окне."
   ]
  },
  {
   "cell_type": "code",
   "execution_count": 3,
   "metadata": {},
   "outputs": [],
   "source": [
    "\n",
    "import tkinter as tk\n",
    " \n",
    "window = tk.Tk()\n",
    " \n",
    "frame1 = tk.Frame(master=window, width=100, height=100, bg=\"red\")\n",
    "frame1.pack()\n",
    " \n",
    "frame2 = tk.Frame(master=window, width=50, height=50, bg=\"yellow\")\n",
    "frame2.pack()\n",
    " \n",
    "frame3 = tk.Frame(master=window, width=25, height=25, bg=\"blue\")\n",
    "frame3.pack()\n",
    " \n",
    "window.mainloop()"
   ]
  },
  {
   "cell_type": "code",
   "execution_count": 16,
   "metadata": {},
   "outputs": [],
   "source": [
    "import tkinter as tk\n",
    " \n",
    "window = tk.Tk()\n",
    " \n",
    "frame1 = tk.Frame(master=window, height=100, width=10, bg=\"red\")\n",
    "frame1.pack(fill=tk.X)\n",
    " \n",
    "frame2 = tk.Frame(master=window, height=50, bg=\"yellow\")\n",
    "frame2.pack(fill=tk.X)\n",
    " \n",
    "frame3 = tk.Frame(master=window, height=25, bg=\"blue\")\n",
    "frame3.pack(fill=tk.X)\n",
    " \n",
    "window.mainloop()"
   ]
  },
  {
   "cell_type": "markdown",
   "metadata": {},
   "source": [
    "### адаптивный экран"
   ]
  },
  {
   "cell_type": "code",
   "execution_count": 18,
   "metadata": {},
   "outputs": [],
   "source": [
    "import tkinter as tk\n",
    " \n",
    "window = tk.Tk()\n",
    " \n",
    "frame1 = tk.Frame(master=window, width=200, height=100, bg=\"green\")\n",
    "frame1.pack(fill=tk.BOTH, expand=True)\n",
    " \n",
    "frame2 = tk.Frame(master=window, width=100, bg=\"blue\")\n",
    "frame2.pack(fill=tk.BOTH, expand=True)\n",
    " \n",
    "frame3 = tk.Frame(master=window, width=50, bg=\"red\")\n",
    "frame3.pack(fill=tk.BOTH, expand=True)\n",
    " \n",
    "window.mainloop()"
   ]
  },
  {
   "cell_type": "markdown",
   "metadata": {},
   "source": [
    "## Менеджер геометрии place() в Tkinter"
   ]
  },
  {
   "cell_type": "markdown",
   "metadata": {},
   "source": [
    "Короче его не используем)"
   ]
  },
  {
   "cell_type": "code",
   "execution_count": null,
   "metadata": {},
   "outputs": [],
   "source": [
    "\n",
    "import tkinter as tk\n",
    " \n",
    "window = tk.Tk()\n",
    " \n",
    "frame = tk.Frame(master=window, width=150, height=150)\n",
    "frame.pack()\n",
    " \n",
    "label1 = tk.Label(master=frame, text=\"I'm at (0, 0)\", bg=\"red\")\n",
    "label1.place(x=0, y=0)\n",
    " \n",
    "label2 = tk.Label(master=frame, text=\"I'm at (75, 75)\", bg=\"yellow\")\n",
    "label2.place(x=75, y=75)\n",
    " \n",
    "window.mainloop()"
   ]
  },
  {
   "cell_type": "markdown",
   "metadata": {},
   "source": [
    "## Менеджер геометрии grid() в Tkinter"
   ]
  },
  {
   "cell_type": "code",
   "execution_count": null,
   "metadata": {},
   "outputs": [],
   "source": [
    "import tkinter as tk\n",
    "\n",
    "window = tk.Tk()\n",
    "\n",
    "for i in range(3):\n",
    "    for j in range(3):\n",
    "        frame = tk.Frame(\n",
    "            master=window,\n",
    "            relief=tk.RAISED,\n",
    "            borderwidth=5\n",
    "        )\n",
    "        frame.grid(row=i, column=j)\n",
    "        label = tk.Label(master=frame, text=f\"Row {i}\\nColumn {j}\")\n",
    "        label.pack()\n",
    "\n",
    "window.mainloop()"
   ]
  },
  {
   "cell_type": "markdown",
   "metadata": {},
   "source": [
    "padx добавляет отступ в горизонтальном направлении;\n",
    "\n",
    "pady добавляет отступы в вертикальном направлении."
   ]
  },
  {
   "cell_type": "markdown",
   "metadata": {},
   "source": [
    "### чуть улучшим код добавили отступы"
   ]
  },
  {
   "cell_type": "code",
   "execution_count": 20,
   "metadata": {},
   "outputs": [],
   "source": [
    "import tkinter as tk\n",
    "\n",
    "window = tk.Tk()\n",
    "\n",
    "for i in range(3):\n",
    "    for j in range(3):\n",
    "        frame = tk.Frame(\n",
    "            master=window,\n",
    "            relief=tk.RAISED,\n",
    "            borderwidth=5\n",
    "        )\n",
    "        frame.grid(row=i, column=j, padx=5, pady=5)\n",
    "        label = tk.Label(master=frame, text=f\"Row {i}\\nColumn {j}\")\n",
    "        label.pack(padx=5, pady=5)\n",
    "\n",
    "window.mainloop()"
   ]
  },
  {
   "cell_type": "markdown",
   "metadata": {},
   "source": [
    "##  пытаемся сделать окно одаптиованным"
   ]
  },
  {
   "cell_type": "code",
   "execution_count": 38,
   "metadata": {},
   "outputs": [],
   "source": [
    "import tkinter as tk\n",
    "\n",
    "window = tk.Tk()\n",
    "\n",
    "for i in range(3):\n",
    "    window.columnconfigure(i, weight=1, minsize=75)\n",
    "    window.rowconfigure(i, weight=1, minsize=50)   \n",
    "    for j in range(3):     \n",
    "        frame = tk.Frame(\n",
    "            master=window,\n",
    "            relief=tk.RAISED,\n",
    "            borderwidth=5\n",
    "        )\n",
    "        frame.grid(row=i, column=j, padx=5, pady=5)\n",
    "        label = tk.Label(master=frame, text=f\"Row {i}\\nColumn {j}\")\n",
    "        label.pack(padx=5, pady=5)\n",
    "\n",
    "window.mainloop()"
   ]
  },
  {
   "cell_type": "markdown",
   "metadata": {},
   "source": [
    "По умолчанию виджеты центрируются в своих ячейках сетки. К примеру, следующий код создает два ярлыка с текстом и помещает их в сетку с одним столбцом и двумя строками:"
   ]
  },
  {
   "cell_type": "code",
   "execution_count": null,
   "metadata": {},
   "outputs": [],
   "source": [
    "import tkinter as tk\n",
    " \n",
    "window = tk.Tk()\n",
    "window.columnconfigure(0, minsize=250)\n",
    "window.rowconfigure([0, 1], minsize=100)\n",
    " \n",
    "label1 = tk.Label(text=\"A\")\n",
    "label1.grid(row=0, column=0)\n",
    " \n",
    "label2 = tk.Label(text=\"B\")\n",
    "label2.grid(row=1, column=0)\n",
    " \n",
    "window.mainloop()"
   ]
  }
 ],
 "metadata": {
  "kernelspec": {
   "display_name": "Python 3.8.5 64-bit",
   "language": "python",
   "name": "python38564bitaf0bb5075d664e98af35ce1e7d7bf570"
  },
  "language_info": {
   "codemirror_mode": {
    "name": "ipython",
    "version": 3
   },
   "file_extension": ".py",
   "mimetype": "text/x-python",
   "name": "python",
   "nbconvert_exporter": "python",
   "pygments_lexer": "ipython3",
   "version": "3.8.5"
  }
 },
 "nbformat": 4,
 "nbformat_minor": 4
}
