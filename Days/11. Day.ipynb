{
 "cells": [
  {
   "cell_type": "markdown",
   "metadata": {},
   "source": [
    "# 11. Day"
   ]
  },
  {
   "cell_type": "markdown",
   "metadata": {},
   "source": [
    "https://younglinux.info/tkinter/bind.php"
   ]
  },
  {
   "cell_type": "markdown",
   "metadata": {},
   "source": [
    "У функций-обработчиков, которые вызываются через bind, а не через свойство command, должен быть обязательный параметр event, через который передается событие. Имя event – соглашение, идентификатор может иметь другое имя, но обязательно должен стоять на первом месте в функции, или может быть вторым в методе"
   ]
  },
  {
   "cell_type": "code",
   "execution_count": 2,
   "metadata": {},
   "outputs": [],
   "source": [
    "from tkinter import *\n",
    "root = Tk()\n",
    " \n",
    "def change(event):\n",
    "    b['fg'] = \"red\"\n",
    "    b['activeforeground'] = \"red\"\n",
    " \n",
    "b = Button(text='RED', width=10, height=3)\n",
    "b.bind('<Button-1>', change)\n",
    "b.bind('<Return>', change)\n",
    " \n",
    "b.pack()\n",
    " \n",
    "root.mainloop()"
   ]
  },
  {
   "cell_type": "code",
   "execution_count": 3,
   "metadata": {},
   "outputs": [],
   "source": [
    "from tkinter import *\n",
    "root = Tk()\n",
    " \n",
    "def font1(event):\n",
    "    l['font'] = \"Verdana\"\n",
    " \n",
    "def font2(event):\n",
    "    l['font'] = \"Times\"\n",
    " \n",
    "l = Label(text=\"Hello World\")\n",
    " \n",
    "l.bind('<Button-1>', font1) # ЛКМ\n",
    "l.bind('<Button-3>', font2) # ПКМ\n",
    "l.pack()\n",
    " \n",
    "root.mainloop()"
   ]
  },
  {
   "cell_type": "code",
   "execution_count": 7,
   "metadata": {},
   "outputs": [],
   "source": [
    "from tkinter import *\n",
    "root = Tk()\n",
    " \n",
    "def changeFont(event, font):\n",
    "    l['font'] = font\n",
    " \n",
    "l = Label(text=\"Hello World\")\n",
    " \n",
    "l.bind('<Button-1>',\n",
    "       lambda e, f=\"Verdana\": changeFont(e, f))\n",
    "l.bind('<Button-3>',\n",
    "       lambda e: changeFont(e, \"Times\"))\n",
    "\n",
    "l.pack()\n",
    " \n",
    "root.mainloop()"
   ]
  },
  {
   "cell_type": "code",
   "execution_count": 4,
   "metadata": {},
   "outputs": [],
   "source": [
    "from tkinter import *\n",
    " \n",
    " \n",
    "def changeFont(font):\n",
    "    l['font'] = font\n",
    " \n",
    " \n",
    "root = Tk()\n",
    "l = Label(text=\"Hello World\")\n",
    "l.pack()\n",
    "Button(command=\n",
    "       lambda f=\"Verdana\": changeFont(f))\\\n",
    "    .pack()\n",
    "Button(command=\n",
    "       lambda f=\"Times\": changeFont(f))\\\n",
    "    .pack()\n",
    "root.mainloop()"
   ]
  },
  {
   "cell_type": "markdown",
   "metadata": {},
   "source": [
    "### Practical"
   ]
  },
  {
   "cell_type": "code",
   "execution_count": 17,
   "metadata": {},
   "outputs": [],
   "source": [
    "# my work\n",
    "from tkinter import *\n",
    "\n",
    "def insert_in_box(event):\n",
    "    box.insert(END, ent_word.get())\n",
    "    ent_word.delete(0, END)\n",
    "    \n",
    "def insert_in_ent_word(event):\n",
    "    ent_word.delete(0, END)\n",
    "    ent_word.insert(0, box.get(box.curselection()))\n",
    "    \n",
    "\n",
    "root = Tk()\n",
    "\n",
    "ent_word = Entry(width=10)\n",
    "ent_word.pack()\n",
    "ent_word.bind('<Return>', insert_in_box)\n",
    "\n",
    "box = Listbox()\n",
    "box.pack()\n",
    "box.bind('<Double-Button-1>', insert_in_ent_word)\n",
    "\n",
    "\n",
    "root.mainloop()"
   ]
  },
  {
   "cell_type": "code",
   "execution_count": 21,
   "metadata": {},
   "outputs": [],
   "source": [
    "from tkinter import *\n",
    "root = Tk()\n",
    "def take_item(event):\n",
    "    s = e.get()\n",
    "    e.delete(0, END)\n",
    "    l.insert(END, s)\n",
    "def give_item(event):\n",
    "    tup = l.curselection()\n",
    "    if tup:\n",
    "        s = l.get(tup[0])\n",
    "        e.delete(0, END)\n",
    "        e.insert(0, s)\n",
    "e = Entry()\n",
    "e.pack()\n",
    "e.bind('<Return>', take_item)\n",
    "l = Listbox()\n",
    "l.pack()\n",
    "l.bind('<Double-Button-1>', give_item)\n",
    "root.mainloop()"
   ]
  }
 ],
 "metadata": {
  "kernelspec": {
   "display_name": "Python 3",
   "language": "python",
   "name": "python3"
  },
  "language_info": {
   "codemirror_mode": {
    "name": "ipython",
    "version": 3
   },
   "file_extension": ".py",
   "mimetype": "text/x-python",
   "name": "python",
   "nbconvert_exporter": "python",
   "pygments_lexer": "ipython3",
   "version": "3.8.5"
  }
 },
 "nbformat": 4,
 "nbformat_minor": 4
}
